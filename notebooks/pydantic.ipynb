{
 "cells": [
  {
   "cell_type": "markdown",
   "id": "a7f61f5d-11a7-4d10-92cf-34ffd1997043",
   "metadata": {},
   "source": [
    "### Data Validation"
   ]
  },
  {
   "cell_type": "code",
   "execution_count": 2,
   "id": "67d370be-d01a-4bbe-a0ba-72b7b04f70a5",
   "metadata": {},
   "outputs": [
    {
     "name": "stdout",
     "output_type": "stream",
     "text": [
      "name='Alice' age=25 email='alice@example.com'\n"
     ]
    },
    {
     "ename": "ValidationError",
     "evalue": "1 validation error for User\nage\n  Input should be a valid integer, unable to parse string as an integer [type=int_parsing, input_value='twenty', input_type=str]\n    For further information visit https://errors.pydantic.dev/2.10/v/int_parsing",
     "output_type": "error",
     "traceback": [
      "\u001b[31m---------------------------------------------------------------------------\u001b[39m",
      "\u001b[31mValidationError\u001b[39m                           Traceback (most recent call last)",
      "\u001b[36mCell\u001b[39m\u001b[36m \u001b[39m\u001b[32mIn[2]\u001b[39m\u001b[32m, line 13\u001b[39m\n\u001b[32m     10\u001b[39m \u001b[38;5;28mprint\u001b[39m(user)\n\u001b[32m     12\u001b[39m \u001b[38;5;66;03m# Invalid data (Raises ValidationError)\u001b[39;00m\n\u001b[32m---> \u001b[39m\u001b[32m13\u001b[39m invalid_user = \u001b[43mUser\u001b[49m\u001b[43m(\u001b[49m\u001b[43mname\u001b[49m\u001b[43m=\u001b[49m\u001b[33;43m\"\u001b[39;49m\u001b[33;43mBob\u001b[39;49m\u001b[33;43m\"\u001b[39;49m\u001b[43m,\u001b[49m\u001b[43m \u001b[49m\u001b[43mage\u001b[49m\u001b[43m=\u001b[49m\u001b[33;43m\"\u001b[39;49m\u001b[33;43mtwenty\u001b[39;49m\u001b[33;43m\"\u001b[39;49m\u001b[43m,\u001b[49m\u001b[43m \u001b[49m\u001b[43memail\u001b[49m\u001b[43m=\u001b[49m\u001b[33;43m\"\u001b[39;49m\u001b[33;43mnot-an-email\u001b[39;49m\u001b[33;43m\"\u001b[39;49m\u001b[43m)\u001b[49m\n",
      "\u001b[36mFile \u001b[39m\u001b[32m~/.cache/pypoetry/virtualenvs/pylabs-ePWRlhzu-py3.13/lib/python3.13/site-packages/pydantic/main.py:214\u001b[39m, in \u001b[36mBaseModel.__init__\u001b[39m\u001b[34m(self, **data)\u001b[39m\n\u001b[32m    212\u001b[39m \u001b[38;5;66;03m# `__tracebackhide__` tells pytest and some other tools to omit this function from tracebacks\u001b[39;00m\n\u001b[32m    213\u001b[39m __tracebackhide__ = \u001b[38;5;28;01mTrue\u001b[39;00m\n\u001b[32m--> \u001b[39m\u001b[32m214\u001b[39m validated_self = \u001b[38;5;28;43mself\u001b[39;49m\u001b[43m.\u001b[49m\u001b[43m__pydantic_validator__\u001b[49m\u001b[43m.\u001b[49m\u001b[43mvalidate_python\u001b[49m\u001b[43m(\u001b[49m\u001b[43mdata\u001b[49m\u001b[43m,\u001b[49m\u001b[43m \u001b[49m\u001b[43mself_instance\u001b[49m\u001b[43m=\u001b[49m\u001b[38;5;28;43mself\u001b[39;49m\u001b[43m)\u001b[49m\n\u001b[32m    215\u001b[39m \u001b[38;5;28;01mif\u001b[39;00m \u001b[38;5;28mself\u001b[39m \u001b[38;5;129;01mis\u001b[39;00m \u001b[38;5;129;01mnot\u001b[39;00m validated_self:\n\u001b[32m    216\u001b[39m     warnings.warn(\n\u001b[32m    217\u001b[39m         \u001b[33m'\u001b[39m\u001b[33mA custom validator is returning a value other than `self`.\u001b[39m\u001b[38;5;130;01m\\n\u001b[39;00m\u001b[33m'\u001b[39m\n\u001b[32m    218\u001b[39m         \u001b[33m\"\u001b[39m\u001b[33mReturning anything other than `self` from a top level model validator isn\u001b[39m\u001b[33m'\u001b[39m\u001b[33mt supported when validating via `__init__`.\u001b[39m\u001b[38;5;130;01m\\n\u001b[39;00m\u001b[33m\"\u001b[39m\n\u001b[32m    219\u001b[39m         \u001b[33m'\u001b[39m\u001b[33mSee the `model_validator` docs (https://docs.pydantic.dev/latest/concepts/validators/#model-validators) for more details.\u001b[39m\u001b[33m'\u001b[39m,\n\u001b[32m    220\u001b[39m         stacklevel=\u001b[32m2\u001b[39m,\n\u001b[32m    221\u001b[39m     )\n",
      "\u001b[31mValidationError\u001b[39m: 1 validation error for User\nage\n  Input should be a valid integer, unable to parse string as an integer [type=int_parsing, input_value='twenty', input_type=str]\n    For further information visit https://errors.pydantic.dev/2.10/v/int_parsing"
     ]
    }
   ],
   "source": [
    "from pydantic import BaseModel\n",
    "\n",
    "class User(BaseModel):\n",
    "    name: str\n",
    "    age: int\n",
    "    email: str\n",
    "\n",
    "# Valid data (Works!)\n",
    "user = User(name=\"Alice\", age=25, email=\"alice@example.com\")\n",
    "print(user)\n",
    "\n",
    "# Invalid data (Raises ValidationError)\n",
    "invalid_user = User(name=\"Bob\", age=\"twenty\", email=\"not-an-email\")\n"
   ]
  },
  {
   "cell_type": "markdown",
   "id": "acd8174b-1573-4f50-8a65-b0f08a1333c2",
   "metadata": {},
   "source": [
    "### Automatic Type Conversion"
   ]
  },
  {
   "cell_type": "code",
   "execution_count": 3,
   "id": "e63f3061-ec51-4185-82d6-f5c2a69dc0e1",
   "metadata": {},
   "outputs": [
    {
     "name": "stdout",
     "output_type": "stream",
     "text": [
      "30\n"
     ]
    }
   ],
   "source": [
    "user = User(name=\"Charlie\", age=\"30\", email=\"charlie@example.com\")\n",
    "print(user.age)  # Output: 30 (Converted from string to int)\n"
   ]
  },
  {
   "cell_type": "markdown",
   "id": "7ba69f73-6cb4-4ca7-ba84-62cb10e4d71c",
   "metadata": {},
   "source": [
    "### Using Validators "
   ]
  },
  {
   "cell_type": "code",
   "execution_count": 4,
   "id": "6cc740d4-d6a5-4890-9198-6fc1efc2dc11",
   "metadata": {},
   "outputs": [
    {
     "name": "stderr",
     "output_type": "stream",
     "text": [
      "/tmp/ipykernel_45977/1924590587.py:8: PydanticDeprecatedSince20: Pydantic V1 style `@validator` validators are deprecated. You should migrate to Pydantic V2 style `@field_validator` validators, see the migration guide for more details. Deprecated in Pydantic V2.0 to be removed in V3.0. See Pydantic V2 Migration Guide at https://errors.pydantic.dev/2.10/migration/\n",
      "  @validator(\"age\")\n"
     ]
    },
    {
     "ename": "ValidationError",
     "evalue": "1 validation error for User\nage\n  Value error, Age must be 18 or older! [type=value_error, input_value=15, input_type=int]\n    For further information visit https://errors.pydantic.dev/2.10/v/value_error",
     "output_type": "error",
     "traceback": [
      "\u001b[31m---------------------------------------------------------------------------\u001b[39m",
      "\u001b[31mValidationError\u001b[39m                           Traceback (most recent call last)",
      "\u001b[36mCell\u001b[39m\u001b[36m \u001b[39m\u001b[32mIn[4]\u001b[39m\u001b[32m, line 15\u001b[39m\n\u001b[32m     12\u001b[39m         \u001b[38;5;28;01mreturn\u001b[39;00m value\n\u001b[32m     14\u001b[39m \u001b[38;5;66;03m# This will raise an error\u001b[39;00m\n\u001b[32m---> \u001b[39m\u001b[32m15\u001b[39m user = \u001b[43mUser\u001b[49m\u001b[43m(\u001b[49m\u001b[43mname\u001b[49m\u001b[43m=\u001b[49m\u001b[33;43m\"\u001b[39;49m\u001b[33;43mDave\u001b[39;49m\u001b[33;43m\"\u001b[39;49m\u001b[43m,\u001b[49m\u001b[43m \u001b[49m\u001b[43mage\u001b[49m\u001b[43m=\u001b[49m\u001b[32;43m15\u001b[39;49m\u001b[43m,\u001b[49m\u001b[43m \u001b[49m\u001b[43memail\u001b[49m\u001b[43m=\u001b[49m\u001b[33;43m\"\u001b[39;49m\u001b[33;43mdave@example.com\u001b[39;49m\u001b[33;43m\"\u001b[39;49m\u001b[43m)\u001b[49m\n",
      "\u001b[36mFile \u001b[39m\u001b[32m~/.cache/pypoetry/virtualenvs/pylabs-ePWRlhzu-py3.13/lib/python3.13/site-packages/pydantic/main.py:214\u001b[39m, in \u001b[36mBaseModel.__init__\u001b[39m\u001b[34m(self, **data)\u001b[39m\n\u001b[32m    212\u001b[39m \u001b[38;5;66;03m# `__tracebackhide__` tells pytest and some other tools to omit this function from tracebacks\u001b[39;00m\n\u001b[32m    213\u001b[39m __tracebackhide__ = \u001b[38;5;28;01mTrue\u001b[39;00m\n\u001b[32m--> \u001b[39m\u001b[32m214\u001b[39m validated_self = \u001b[38;5;28;43mself\u001b[39;49m\u001b[43m.\u001b[49m\u001b[43m__pydantic_validator__\u001b[49m\u001b[43m.\u001b[49m\u001b[43mvalidate_python\u001b[49m\u001b[43m(\u001b[49m\u001b[43mdata\u001b[49m\u001b[43m,\u001b[49m\u001b[43m \u001b[49m\u001b[43mself_instance\u001b[49m\u001b[43m=\u001b[49m\u001b[38;5;28;43mself\u001b[39;49m\u001b[43m)\u001b[49m\n\u001b[32m    215\u001b[39m \u001b[38;5;28;01mif\u001b[39;00m \u001b[38;5;28mself\u001b[39m \u001b[38;5;129;01mis\u001b[39;00m \u001b[38;5;129;01mnot\u001b[39;00m validated_self:\n\u001b[32m    216\u001b[39m     warnings.warn(\n\u001b[32m    217\u001b[39m         \u001b[33m'\u001b[39m\u001b[33mA custom validator is returning a value other than `self`.\u001b[39m\u001b[38;5;130;01m\\n\u001b[39;00m\u001b[33m'\u001b[39m\n\u001b[32m    218\u001b[39m         \u001b[33m\"\u001b[39m\u001b[33mReturning anything other than `self` from a top level model validator isn\u001b[39m\u001b[33m'\u001b[39m\u001b[33mt supported when validating via `__init__`.\u001b[39m\u001b[38;5;130;01m\\n\u001b[39;00m\u001b[33m\"\u001b[39m\n\u001b[32m    219\u001b[39m         \u001b[33m'\u001b[39m\u001b[33mSee the `model_validator` docs (https://docs.pydantic.dev/latest/concepts/validators/#model-validators) for more details.\u001b[39m\u001b[33m'\u001b[39m,\n\u001b[32m    220\u001b[39m         stacklevel=\u001b[32m2\u001b[39m,\n\u001b[32m    221\u001b[39m     )\n",
      "\u001b[31mValidationError\u001b[39m: 1 validation error for User\nage\n  Value error, Age must be 18 or older! [type=value_error, input_value=15, input_type=int]\n    For further information visit https://errors.pydantic.dev/2.10/v/value_error"
     ]
    }
   ],
   "source": [
    "from pydantic import BaseModel, validator\n",
    "\n",
    "class User(BaseModel):\n",
    "    name: str\n",
    "    age: int\n",
    "    email: str\n",
    "\n",
    "    @validator(\"age\")\n",
    "    def check_age(cls, value):\n",
    "        if value < 18:\n",
    "            raise ValueError(\"Age must be 18 or older!\")\n",
    "        return value\n",
    "\n",
    "# This will raise an error\n",
    "user = User(name=\"Dave\", age=15, email=\"dave@example.com\")\n"
   ]
  },
  {
   "cell_type": "markdown",
   "id": "5b8c27fd-8133-4f2a-b710-188730af7a0c",
   "metadata": {},
   "source": [
    "### Handling Optional Fields"
   ]
  },
  {
   "cell_type": "code",
   "execution_count": 11,
   "id": "dd9eca0f-7beb-42f5-a9ac-700b139ae08c",
   "metadata": {},
   "outputs": [
    {
     "name": "stdout",
     "output_type": "stream",
     "text": [
      "None\n"
     ]
    }
   ],
   "source": [
    "from typing import Optional\n",
    "from pydantic import BaseModel, Field\n",
    "\n",
    "class User(BaseModel):\n",
    "    name: str\n",
    "    age: int\n",
    "    email: str\n",
    "    phone: Optional[str] = Field(default=None) # Can be None or missing\n",
    "\n",
    "user = User(name=\"Eve\", age=29, email=\"eve@example.com\")\n",
    "print(user.phone)  # Output: None\n"
   ]
  },
  {
   "cell_type": "markdown",
   "id": "28cef07a-b66d-49f6-8456-0c7e5a6e9e90",
   "metadata": {},
   "source": [
    "### Default values & field constraints"
   ]
  },
  {
   "cell_type": "code",
   "execution_count": 12,
   "id": "c9eda858-a4e1-49ca-987a-5b72e11fd63e",
   "metadata": {},
   "outputs": [
    {
     "name": "stdout",
     "output_type": "stream",
     "text": [
      "10\n"
     ]
    }
   ],
   "source": [
    "from pydantic import BaseModel, Field\n",
    "\n",
    "class Product(BaseModel):\n",
    "    name: str\n",
    "    price: float = Field(..., gt=0)  # Must be > 0\n",
    "    stock: int = Field(10, ge=0)     # Default: 10, Must be ≥ 0\n",
    "\n",
    "product = Product(name=\"Laptop\", price=999.99)\n",
    "print(product.stock)  # Output: 10\n"
   ]
  },
  {
   "cell_type": "markdown",
   "id": "707823f1-a534-4e6d-b047-714e17f3f7c9",
   "metadata": {},
   "source": [
    "### Nested Models (Composition)"
   ]
  },
  {
   "cell_type": "code",
   "execution_count": 14,
   "id": "7f769312-10a9-4d39-b90e-b2095b63e627",
   "metadata": {},
   "outputs": [
    {
     "name": "stdout",
     "output_type": "stream",
     "text": [
      "NYC\n"
     ]
    }
   ],
   "source": [
    "class Address(BaseModel):\n",
    "    street: str\n",
    "    city: str\n",
    "\n",
    "class User(BaseModel):\n",
    "    name: str\n",
    "    address: Address  # Nested model\n",
    "\n",
    "user = User(name=\"Frank\", address={\"street\": \"123 Main St\", \"city\": \"NYC\"})\n",
    "print(user.address.city)  # Output: NYC\n"
   ]
  },
  {
   "cell_type": "markdown",
   "id": "6142587f-1fdb-4708-88a6-6feb44efc470",
   "metadata": {},
   "source": [
    "### JSON Serialization & Parsing"
   ]
  },
  {
   "cell_type": "code",
   "execution_count": 16,
   "id": "021d57b4-1d90-4b2b-b334-4f2167e2645c",
   "metadata": {},
   "outputs": [
    {
     "name": "stdout",
     "output_type": "stream",
     "text": [
      "{\"name\":\"Frank\",\"address\":{\"street\":\"123 Main St\",\"city\":\"NYC\"}}\n"
     ]
    }
   ],
   "source": [
    "import json\n",
    "\n",
    "user_json = user.model_dump_json()  # Convert to JSON string\n",
    "print(user_json)\n",
    "\n",
    "user_dict = json.loads(user_json)  # Convert JSON to dict\n",
    "new_user = User(**user_dict)  # Create User from dict\n"
   ]
  },
  {
   "cell_type": "markdown",
   "id": "c0527091-0cb8-40da-bded-d584863951ef",
   "metadata": {},
   "source": [
    "### Working with Environment Variables"
   ]
  },
  {
   "cell_type": "code",
   "execution_count": null,
   "id": "63f90d4f-8fef-4173-9de5-b49839c3bb51",
   "metadata": {},
   "outputs": [],
   "source": [
    "from pydantic import BaseSettings\n",
    "\n",
    "class Config(BaseSettings):\n",
    "    database_url: str\n",
    "\n",
    "    class Config:\n",
    "        env_file = \".env\"  # Load from .env file\n",
    "\n",
    "config = Config()\n",
    "print(config.database_url)\n"
   ]
  },
  {
   "cell_type": "markdown",
   "id": "be42b790-0ff7-40cf-8485-ca20c97bdd1e",
   "metadata": {},
   "source": [
    "### Asynchronous Validation"
   ]
  },
  {
   "cell_type": "code",
   "execution_count": 20,
   "id": "f34b803e-4088-49d9-b6ed-ccfd9ccd8eb2",
   "metadata": {},
   "outputs": [],
   "source": [
    "from pydantic import BaseModel, field_validator\n",
    "\n",
    "class AsyncUser(BaseModel):\n",
    "    name: str\n",
    "\n",
    "    @field_validator(\"name\")\n",
    "    async def validate_name(cls, value):\n",
    "        return value.strip().title()  # Async-friendly processing\n"
   ]
  },
  {
   "cell_type": "markdown",
   "id": "4ebe1ea9-2260-4d6e-9bb0-7857b5e61ddc",
   "metadata": {},
   "source": [
    "#### Pydantic v2"
   ]
  },
  {
   "cell_type": "code",
   "execution_count": 21,
   "id": "b856f2b2-2931-47a1-aa85-13fd7d69d0d3",
   "metadata": {},
   "outputs": [],
   "source": [
    "from pydantic.dataclasses import dataclass\n",
    "\n",
    "@dataclass\n",
    "class Item:\n",
    "    name: str\n",
    "    price: float\n"
   ]
  },
  {
   "cell_type": "code",
   "execution_count": null,
   "id": "1c1dae68-7edd-4085-86df-2a9711519600",
   "metadata": {},
   "outputs": [],
   "source": []
  }
 ],
 "metadata": {
  "kernelspec": {
   "display_name": "Python 3 (ipykernel)",
   "language": "python",
   "name": "python3"
  },
  "language_info": {
   "codemirror_mode": {
    "name": "ipython",
    "version": 3
   },
   "file_extension": ".py",
   "mimetype": "text/x-python",
   "name": "python",
   "nbconvert_exporter": "python",
   "pygments_lexer": "ipython3",
   "version": "3.13.1"
  }
 },
 "nbformat": 4,
 "nbformat_minor": 5
}
