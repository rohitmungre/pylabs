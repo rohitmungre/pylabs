{
 "cells": [
  {
   "cell_type": "code",
   "execution_count": 1,
   "id": "e09ec21d-b88e-420c-8ba1-70ef0de2d39a",
   "metadata": {},
   "outputs": [
    {
     "name": "stdout",
     "output_type": "stream",
     "text": [
      "User(name='Alice', age=30, email='alice@example.com')\n"
     ]
    }
   ],
   "source": [
    "from dataclasses import dataclass\n",
    "\n",
    "@dataclass\n",
    "class User:\n",
    "    name: str\n",
    "    age: int\n",
    "    email: str\n",
    "\n",
    "user = User(name=\"Alice\", age=30, email=\"alice@example.com\")\n",
    "print(user)  # Output: User(name='Alice', age=30, email='alice@example.com')\n"
   ]
  },
  {
   "cell_type": "markdown",
   "id": "a0c0e425-fc09-46bb-a03d-0075f41625e2",
   "metadata": {},
   "source": [
    "###  default Values"
   ]
  },
  {
   "cell_type": "code",
   "execution_count": 2,
   "id": "f4b1ea8c-98a3-47a6-b091-d89a0f3bc6f5",
   "metadata": {},
   "outputs": [
    {
     "name": "stdout",
     "output_type": "stream",
     "text": [
      "User(name='Bob', age=18, email='unknown@example.com')\n"
     ]
    }
   ],
   "source": [
    "@dataclass\n",
    "class User:\n",
    "    name: str\n",
    "    age: int = 18  # Default value\n",
    "    email: str = \"unknown@example.com\"\n",
    "\n",
    "user = User(name=\"Bob\")\n",
    "print(user)  # Output: User(name='Bob', age=18, email='unknown@example.com')\n"
   ]
  },
  {
   "cell_type": "markdown",
   "id": "4d2104b5-380e-4035-a96b-5e524599477d",
   "metadata": {},
   "source": [
    "### field() for Fine-Grained Control"
   ]
  },
  {
   "cell_type": "code",
   "execution_count": 3,
   "id": "8c20d79e-33c7-40e6-859d-a96110d64b5f",
   "metadata": {},
   "outputs": [
    {
     "name": "stdout",
     "output_type": "stream",
     "text": [
      "User(name='Charlie', age=18, friends=['Alice'])\n"
     ]
    }
   ],
   "source": [
    "from dataclasses import dataclass, field\n",
    "\n",
    "@dataclass\n",
    "class User:\n",
    "    name: str\n",
    "    age: int = field(default=18)\n",
    "    friends: list = field(default_factory=list)  # Default empty list\n",
    "\n",
    "user = User(name=\"Charlie\")\n",
    "user.friends.append(\"Alice\")\n",
    "print(user)  # Output: User(name='Charlie', age=18, friends=['Alice'])\n"
   ]
  },
  {
   "cell_type": "markdown",
   "id": "3b2e457d-42b5-40cf-945c-ccb2b7d0ab55",
   "metadata": {},
   "source": [
    "### Immutable Dataclasses"
   ]
  },
  {
   "cell_type": "code",
   "execution_count": 6,
   "id": "c2ec0769-c7fb-4445-a7b2-9808deb33943",
   "metadata": {},
   "outputs": [
    {
     "ename": "FrozenInstanceError",
     "evalue": "cannot assign to field 'debug'",
     "output_type": "error",
     "traceback": [
      "\u001b[31m---------------------------------------------------------------------------\u001b[39m",
      "\u001b[31mFrozenInstanceError\u001b[39m                       Traceback (most recent call last)",
      "\u001b[36mCell\u001b[39m\u001b[36m \u001b[39m\u001b[32mIn[6]\u001b[39m\u001b[32m, line 6\u001b[39m\n\u001b[32m      3\u001b[39m     debug: \u001b[38;5;28mbool\u001b[39m = \u001b[38;5;28;01mTrue\u001b[39;00m\n\u001b[32m      5\u001b[39m config = Config()\n\u001b[32m----> \u001b[39m\u001b[32m6\u001b[39m \u001b[43mconfig\u001b[49m\u001b[43m.\u001b[49m\u001b[43mdebug\u001b[49m = \u001b[38;5;28;01mFalse\u001b[39;00m  \u001b[38;5;66;03m# ❌ ERROR: Cannot modify frozen dataclass\u001b[39;00m\n",
      "\u001b[36mFile \u001b[39m\u001b[32m<string>:15\u001b[39m, in \u001b[36m__setattr__\u001b[39m\u001b[34m(self, name, value)\u001b[39m\n",
      "\u001b[31mFrozenInstanceError\u001b[39m: cannot assign to field 'debug'"
     ]
    }
   ],
   "source": [
    "@dataclass(frozen=True)\n",
    "class Config:\n",
    "    debug: bool = True\n",
    "\n",
    "config = Config()\n",
    "config.debug = False  # ❌ ERROR: Cannot modify frozen dataclass\n"
   ]
  },
  {
   "cell_type": "markdown",
   "id": "9577ec79-c274-4211-bddc-79f4e740ebaa",
   "metadata": {},
   "source": [
    "### Custom methods "
   ]
  },
  {
   "cell_type": "code",
   "execution_count": 8,
   "id": "9662b188-dc40-4c1c-a795-8ae338432937",
   "metadata": {},
   "outputs": [
    {
     "name": "stdout",
     "output_type": "stream",
     "text": [
      "50\n"
     ]
    }
   ],
   "source": [
    "@dataclass\n",
    "class Rectangle:\n",
    "    width: int\n",
    "    height: int\n",
    "\n",
    "    def area(self) -> int:\n",
    "        return self.width * self.height\n",
    "\n",
    "rect = Rectangle(5, 10)\n",
    "print(rect.area())  # Output: 50\n"
   ]
  },
  {
   "cell_type": "markdown",
   "id": "3ea27310-f82a-4f4c-bba4-dd384748c9af",
   "metadata": {},
   "source": [
    "### Comparison and sorting "
   ]
  },
  {
   "cell_type": "code",
   "execution_count": 9,
   "id": "23d38b57-16de-4ce7-8bf2-5dc6e4a1f9ce",
   "metadata": {},
   "outputs": [
    {
     "name": "stdout",
     "output_type": "stream",
     "text": [
      "True\n"
     ]
    }
   ],
   "source": [
    "@dataclass(order=True)\n",
    "class User:\n",
    "    age: int\n",
    "    name: str\n",
    "\n",
    "u1 = User(25, \"Alice\")\n",
    "u2 = User(30, \"Bob\")\n",
    "print(u1 < u2)  # Output: True (compares by age)\n"
   ]
  },
  {
   "cell_type": "markdown",
   "id": "fd762b01-f009-4974-a73d-a9a739b762c9",
   "metadata": {},
   "source": [
    "### Convert to dictionary "
   ]
  },
  {
   "cell_type": "code",
   "execution_count": 10,
   "id": "ab62d52f-a149-46de-9bbb-4a07455b41f3",
   "metadata": {},
   "outputs": [
    {
     "name": "stdout",
     "output_type": "stream",
     "text": [
      "{'age': 30, 'name': 'Alice'}\n"
     ]
    }
   ],
   "source": [
    "from dataclasses import asdict\n",
    "\n",
    "user = User(name=\"Alice\", age=30)\n",
    "print(asdict(user))  # Output: {'age': 30, 'name': 'Alice'}\n"
   ]
  },
  {
   "cell_type": "code",
   "execution_count": null,
   "id": "81506ceb-debf-42c2-9cc1-d9b8c2c5f14b",
   "metadata": {},
   "outputs": [],
   "source": []
  }
 ],
 "metadata": {
  "kernelspec": {
   "display_name": "Python 3 (ipykernel)",
   "language": "python",
   "name": "python3"
  },
  "language_info": {
   "codemirror_mode": {
    "name": "ipython",
    "version": 3
   },
   "file_extension": ".py",
   "mimetype": "text/x-python",
   "name": "python",
   "nbconvert_exporter": "python",
   "pygments_lexer": "ipython3",
   "version": "3.13.1"
  }
 },
 "nbformat": 4,
 "nbformat_minor": 5
}
